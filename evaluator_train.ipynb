{
  "cells": [
    {
      "cell_type": "code",
      "execution_count": null,
      "metadata": {
        "colab": {
          "base_uri": "https://localhost:8080/"
        },
        "id": "Mt9m0Ti3aVTf",
        "outputId": "6e8387fb-c61b-4b0d-9ef9-47f6d2f7ff94"
      },
      "outputs": [
        {
          "name": "stdout",
          "output_type": "stream",
          "text": [
            "Drive already mounted at /content/gdrive; to attempt to forcibly remount, call drive.mount(\"/content/gdrive\", force_remount=True).\n"
          ]
        },
        {
          "name": "stderr",
          "output_type": "stream",
          "text": [
            "<ipython-input-33-5922a310fa94>:6: DtypeWarning: Columns (7) have mixed types. Specify dtype option on import or set low_memory=False.\n",
            "  data = pd.read_csv('/content/gdrive/MyDrive/CSCI 544/HW1/amazon_reviews_us_Office_Products_v1_00.tsv', sep='\\t', usecols=['star_rating','review_body'])\n"
          ]
        }
      ],
      "source": [
        "import pandas as pd\n",
        "import numpy as np\n",
        "\n",
        "from google.colab import drive\n",
        "drive.mount('/content/gdrive')\n",
        "data = pd.read_csv('/content/gdrive/MyDrive/CSCI 544/HW1/amazon_reviews_us_Office_Products_v1_00.tsv', sep='\\t', usecols=['star_rating','review_body'])"
      ]
    },
    {
      "cell_type": "code",
      "execution_count": null,
      "metadata": {
        "colab": {
          "base_uri": "https://localhost:8080/"
        },
        "id": "ld62I2vgC4og",
        "outputId": "0eac090e-0970-413a-939a-1493f9e098e3"
      },
      "outputs": [
        {
          "name": "stdout",
          "output_type": "stream",
          "text": [
            "Collecting contractions\n",
            "  Downloading contractions-0.1.73-py2.py3-none-any.whl (8.7 kB)\n",
            "Collecting textsearch>=0.0.21 (from contractions)\n",
            "  Downloading textsearch-0.0.24-py2.py3-none-any.whl (7.6 kB)\n",
            "Collecting anyascii (from textsearch>=0.0.21->contractions)\n",
            "  Downloading anyascii-0.3.2-py3-none-any.whl (289 kB)\n",
            "\u001b[2K     \u001b[90m━━━━━━━━━━━━━━━━━━━━━━━━━━━━━━━━━━━━━━━━\u001b[0m \u001b[32m289.9/289.9 kB\u001b[0m \u001b[31m2.8 MB/s\u001b[0m eta \u001b[36m0:00:00\u001b[0m\n",
            "\u001b[?25hCollecting pyahocorasick (from textsearch>=0.0.21->contractions)\n",
            "  Downloading pyahocorasick-2.0.0-cp310-cp310-manylinux_2_5_x86_64.manylinux1_x86_64.manylinux_2_12_x86_64.manylinux2010_x86_64.whl (110 kB)\n",
            "\u001b[2K     \u001b[90m━━━━━━━━━━━━━━━━━━━━━━━━━━━━━━━━━━━━━━━━\u001b[0m \u001b[32m110.8/110.8 kB\u001b[0m \u001b[31m12.2 MB/s\u001b[0m eta \u001b[36m0:00:00\u001b[0m\n",
            "\u001b[?25hInstalling collected packages: pyahocorasick, anyascii, textsearch, contractions\n",
            "Successfully installed anyascii-0.3.2 contractions-0.1.73 pyahocorasick-2.0.0 textsearch-0.0.24\n"
          ]
        }
      ],
      "source": [
        "! pip install contractions"
      ]
    },
    {
      "cell_type": "code",
      "execution_count": null,
      "metadata": {
        "id": "6iGtQaTaDIeB"
      },
      "outputs": [],
      "source": [
        "import re\n",
        "import contractions\n",
        "\n",
        "data = data.dropna()\n",
        "data['review_body'] = data['review_body'].apply(lambda x : str(x).lower())\n",
        "data['star_rating'] = data['star_rating'].map({1:1,2:1,3:1,4:2,5:2,'1':1,'2':1,'3':1,'4':2,'5':2})\n",
        "data['review_body'] = [re.sub(r'<.*?>',' ',str(x)) for x in data['review_body']]\n",
        "data['review_body'] = [re.sub(r'http\\S+','',str(x)) for x in data['review_body']]\n",
        "\n",
        "data['review_body'] = data['review_body'].apply(lambda x : contractions.fix(x))\n",
        "data['review_body'] = [re.sub(r'[^a-zA-Z.!?]',' ',str(x)) for x in data['review_body']]\n",
        "data['review_body']  = data['review_body'].apply(lambda x: re.sub(r'\\s+', ' ', x))\n",
        "\n",
        "def add_space_before_first_punctuation(text):\n",
        "    punctuation_pattern = r'([.,?!]+|\\.{2,})'\n",
        "    def add_space(match):\n",
        "        return f' {match.group(1)}'\n",
        "    modified_text = re.sub(punctuation_pattern, add_space, text)\n",
        "    return modified_text\n",
        "\n",
        "# Apply the function to the 'text' column\n",
        "data['review_body'] = data['review_body'].apply(lambda x: add_space_before_first_punctuation(x))"
      ]
    },
    {
      "cell_type": "code",
      "execution_count": null,
      "metadata": {
        "colab": {
          "base_uri": "https://localhost:8080/",
          "height": 204
        },
        "id": "etpcF96EDRH0",
        "outputId": "3d60ec20-e925-4434-f9f2-b09d2b6f12b5"
      },
      "outputs": [
        {
          "data": {
            "text/html": [
              "\n",
              "  <div id=\"df-d8976b4e-2cbf-44ae-94ec-76333cc38c7b\" class=\"colab-df-container\">\n",
              "    <div>\n",
              "<style scoped>\n",
              "    .dataframe tbody tr th:only-of-type {\n",
              "        vertical-align: middle;\n",
              "    }\n",
              "\n",
              "    .dataframe tbody tr th {\n",
              "        vertical-align: top;\n",
              "    }\n",
              "\n",
              "    .dataframe thead th {\n",
              "        text-align: right;\n",
              "    }\n",
              "</style>\n",
              "<table border=\"1\" class=\"dataframe\">\n",
              "  <thead>\n",
              "    <tr style=\"text-align: right;\">\n",
              "      <th></th>\n",
              "      <th>star_rating</th>\n",
              "      <th>review_body</th>\n",
              "    </tr>\n",
              "  </thead>\n",
              "  <tbody>\n",
              "    <tr>\n",
              "      <th>0</th>\n",
              "      <td>2</td>\n",
              "      <td>great product .</td>\n",
              "    </tr>\n",
              "    <tr>\n",
              "      <th>1</th>\n",
              "      <td>2</td>\n",
              "      <td>what is to say about this commodity item excep...</td>\n",
              "    </tr>\n",
              "    <tr>\n",
              "      <th>2</th>\n",
              "      <td>2</td>\n",
              "      <td>have not used yet but i am sure i will like it .</td>\n",
              "    </tr>\n",
              "    <tr>\n",
              "      <th>3</th>\n",
              "      <td>1</td>\n",
              "      <td>although this was labeled as new the one i rec...</td>\n",
              "    </tr>\n",
              "    <tr>\n",
              "      <th>4</th>\n",
              "      <td>2</td>\n",
              "      <td>gorgeous colors and easy to use</td>\n",
              "    </tr>\n",
              "  </tbody>\n",
              "</table>\n",
              "</div>\n",
              "    <div class=\"colab-df-buttons\">\n",
              "\n",
              "  <div class=\"colab-df-container\">\n",
              "    <button class=\"colab-df-convert\" onclick=\"convertToInteractive('df-d8976b4e-2cbf-44ae-94ec-76333cc38c7b')\"\n",
              "            title=\"Convert this dataframe to an interactive table.\"\n",
              "            style=\"display:none;\">\n",
              "\n",
              "  <svg xmlns=\"http://www.w3.org/2000/svg\" height=\"24px\" viewBox=\"0 -960 960 960\">\n",
              "    <path d=\"M120-120v-720h720v720H120Zm60-500h600v-160H180v160Zm220 220h160v-160H400v160Zm0 220h160v-160H400v160ZM180-400h160v-160H180v160Zm440 0h160v-160H620v160ZM180-180h160v-160H180v160Zm440 0h160v-160H620v160Z\"/>\n",
              "  </svg>\n",
              "    </button>\n",
              "\n",
              "  <style>\n",
              "    .colab-df-container {\n",
              "      display:flex;\n",
              "      gap: 12px;\n",
              "    }\n",
              "\n",
              "    .colab-df-convert {\n",
              "      background-color: #E8F0FE;\n",
              "      border: none;\n",
              "      border-radius: 50%;\n",
              "      cursor: pointer;\n",
              "      display: none;\n",
              "      fill: #1967D2;\n",
              "      height: 32px;\n",
              "      padding: 0 0 0 0;\n",
              "      width: 32px;\n",
              "    }\n",
              "\n",
              "    .colab-df-convert:hover {\n",
              "      background-color: #E2EBFA;\n",
              "      box-shadow: 0px 1px 2px rgba(60, 64, 67, 0.3), 0px 1px 3px 1px rgba(60, 64, 67, 0.15);\n",
              "      fill: #174EA6;\n",
              "    }\n",
              "\n",
              "    .colab-df-buttons div {\n",
              "      margin-bottom: 4px;\n",
              "    }\n",
              "\n",
              "    [theme=dark] .colab-df-convert {\n",
              "      background-color: #3B4455;\n",
              "      fill: #D2E3FC;\n",
              "    }\n",
              "\n",
              "    [theme=dark] .colab-df-convert:hover {\n",
              "      background-color: #434B5C;\n",
              "      box-shadow: 0px 1px 3px 1px rgba(0, 0, 0, 0.15);\n",
              "      filter: drop-shadow(0px 1px 2px rgba(0, 0, 0, 0.3));\n",
              "      fill: #FFFFFF;\n",
              "    }\n",
              "  </style>\n",
              "\n",
              "    <script>\n",
              "      const buttonEl =\n",
              "        document.querySelector('#df-d8976b4e-2cbf-44ae-94ec-76333cc38c7b button.colab-df-convert');\n",
              "      buttonEl.style.display =\n",
              "        google.colab.kernel.accessAllowed ? 'block' : 'none';\n",
              "\n",
              "      async function convertToInteractive(key) {\n",
              "        const element = document.querySelector('#df-d8976b4e-2cbf-44ae-94ec-76333cc38c7b');\n",
              "        const dataTable =\n",
              "          await google.colab.kernel.invokeFunction('convertToInteractive',\n",
              "                                                    [key], {});\n",
              "        if (!dataTable) return;\n",
              "\n",
              "        const docLinkHtml = 'Like what you see? Visit the ' +\n",
              "          '<a target=\"_blank\" href=https://colab.research.google.com/notebooks/data_table.ipynb>data table notebook</a>'\n",
              "          + ' to learn more about interactive tables.';\n",
              "        element.innerHTML = '';\n",
              "        dataTable['output_type'] = 'display_data';\n",
              "        await google.colab.output.renderOutput(dataTable, element);\n",
              "        const docLink = document.createElement('div');\n",
              "        docLink.innerHTML = docLinkHtml;\n",
              "        element.appendChild(docLink);\n",
              "      }\n",
              "    </script>\n",
              "  </div>\n",
              "\n",
              "\n",
              "<div id=\"df-95400982-4d4b-49ce-a1eb-bdc11661dc73\">\n",
              "  <button class=\"colab-df-quickchart\" onclick=\"quickchart('df-95400982-4d4b-49ce-a1eb-bdc11661dc73')\"\n",
              "            title=\"Suggest charts\"\n",
              "            style=\"display:none;\">\n",
              "\n",
              "<svg xmlns=\"http://www.w3.org/2000/svg\" height=\"24px\"viewBox=\"0 0 24 24\"\n",
              "     width=\"24px\">\n",
              "    <g>\n",
              "        <path d=\"M19 3H5c-1.1 0-2 .9-2 2v14c0 1.1.9 2 2 2h14c1.1 0 2-.9 2-2V5c0-1.1-.9-2-2-2zM9 17H7v-7h2v7zm4 0h-2V7h2v10zm4 0h-2v-4h2v4z\"/>\n",
              "    </g>\n",
              "</svg>\n",
              "  </button>\n",
              "\n",
              "<style>\n",
              "  .colab-df-quickchart {\n",
              "      --bg-color: #E8F0FE;\n",
              "      --fill-color: #1967D2;\n",
              "      --hover-bg-color: #E2EBFA;\n",
              "      --hover-fill-color: #174EA6;\n",
              "      --disabled-fill-color: #AAA;\n",
              "      --disabled-bg-color: #DDD;\n",
              "  }\n",
              "\n",
              "  [theme=dark] .colab-df-quickchart {\n",
              "      --bg-color: #3B4455;\n",
              "      --fill-color: #D2E3FC;\n",
              "      --hover-bg-color: #434B5C;\n",
              "      --hover-fill-color: #FFFFFF;\n",
              "      --disabled-bg-color: #3B4455;\n",
              "      --disabled-fill-color: #666;\n",
              "  }\n",
              "\n",
              "  .colab-df-quickchart {\n",
              "    background-color: var(--bg-color);\n",
              "    border: none;\n",
              "    border-radius: 50%;\n",
              "    cursor: pointer;\n",
              "    display: none;\n",
              "    fill: var(--fill-color);\n",
              "    height: 32px;\n",
              "    padding: 0;\n",
              "    width: 32px;\n",
              "  }\n",
              "\n",
              "  .colab-df-quickchart:hover {\n",
              "    background-color: var(--hover-bg-color);\n",
              "    box-shadow: 0 1px 2px rgba(60, 64, 67, 0.3), 0 1px 3px 1px rgba(60, 64, 67, 0.15);\n",
              "    fill: var(--button-hover-fill-color);\n",
              "  }\n",
              "\n",
              "  .colab-df-quickchart-complete:disabled,\n",
              "  .colab-df-quickchart-complete:disabled:hover {\n",
              "    background-color: var(--disabled-bg-color);\n",
              "    fill: var(--disabled-fill-color);\n",
              "    box-shadow: none;\n",
              "  }\n",
              "\n",
              "  .colab-df-spinner {\n",
              "    border: 2px solid var(--fill-color);\n",
              "    border-color: transparent;\n",
              "    border-bottom-color: var(--fill-color);\n",
              "    animation:\n",
              "      spin 1s steps(1) infinite;\n",
              "  }\n",
              "\n",
              "  @keyframes spin {\n",
              "    0% {\n",
              "      border-color: transparent;\n",
              "      border-bottom-color: var(--fill-color);\n",
              "      border-left-color: var(--fill-color);\n",
              "    }\n",
              "    20% {\n",
              "      border-color: transparent;\n",
              "      border-left-color: var(--fill-color);\n",
              "      border-top-color: var(--fill-color);\n",
              "    }\n",
              "    30% {\n",
              "      border-color: transparent;\n",
              "      border-left-color: var(--fill-color);\n",
              "      border-top-color: var(--fill-color);\n",
              "      border-right-color: var(--fill-color);\n",
              "    }\n",
              "    40% {\n",
              "      border-color: transparent;\n",
              "      border-right-color: var(--fill-color);\n",
              "      border-top-color: var(--fill-color);\n",
              "    }\n",
              "    60% {\n",
              "      border-color: transparent;\n",
              "      border-right-color: var(--fill-color);\n",
              "    }\n",
              "    80% {\n",
              "      border-color: transparent;\n",
              "      border-right-color: var(--fill-color);\n",
              "      border-bottom-color: var(--fill-color);\n",
              "    }\n",
              "    90% {\n",
              "      border-color: transparent;\n",
              "      border-bottom-color: var(--fill-color);\n",
              "    }\n",
              "  }\n",
              "</style>\n",
              "\n",
              "  <script>\n",
              "    async function quickchart(key) {\n",
              "      const quickchartButtonEl =\n",
              "        document.querySelector('#' + key + ' button');\n",
              "      quickchartButtonEl.disabled = true;  // To prevent multiple clicks.\n",
              "      quickchartButtonEl.classList.add('colab-df-spinner');\n",
              "      try {\n",
              "        const charts = await google.colab.kernel.invokeFunction(\n",
              "            'suggestCharts', [key], {});\n",
              "      } catch (error) {\n",
              "        console.error('Error during call to suggestCharts:', error);\n",
              "      }\n",
              "      quickchartButtonEl.classList.remove('colab-df-spinner');\n",
              "      quickchartButtonEl.classList.add('colab-df-quickchart-complete');\n",
              "    }\n",
              "    (() => {\n",
              "      let quickchartButtonEl =\n",
              "        document.querySelector('#df-95400982-4d4b-49ce-a1eb-bdc11661dc73 button');\n",
              "      quickchartButtonEl.style.display =\n",
              "        google.colab.kernel.accessAllowed ? 'block' : 'none';\n",
              "    })();\n",
              "  </script>\n",
              "</div>\n",
              "    </div>\n",
              "  </div>\n"
            ],
            "text/plain": [
              "   star_rating                                        review_body\n",
              "0            2                                    great product .\n",
              "1            2  what is to say about this commodity item excep...\n",
              "2            2   have not used yet but i am sure i will like it .\n",
              "3            1  although this was labeled as new the one i rec...\n",
              "4            2                    gorgeous colors and easy to use"
            ]
          },
          "execution_count": 4,
          "metadata": {},
          "output_type": "execute_result"
        }
      ],
      "source": [
        "data.head()"
      ]
    },
    {
      "cell_type": "code",
      "execution_count": null,
      "metadata": {
        "id": "G1GqWKynDTQc"
      },
      "outputs": [],
      "source": [
        "data['token_count'] = data['review_body'].str.split().str.len()\n",
        "filter_data = data[data['token_count'] < 35]\n",
        "filter_data.head(5)"
      ]
    },
    {
      "cell_type": "code",
      "execution_count": null,
      "metadata": {
        "id": "HP_q-QwlG8Z5"
      },
      "outputs": [],
      "source": [
        "filter_data.head(10)"
      ]
    },
    {
      "cell_type": "code",
      "execution_count": null,
      "metadata": {
        "id": "NYacz2E-D7cD"
      },
      "outputs": [],
      "source": [
        "pos_data = filter_data[filter_data['star_rating'] == 2]\n",
        "pos_data = pos_data[pos_data['review_body'].str.len() > 5]\n",
        "neg_data = filter_data[filter_data['star_rating'] == 1]\n",
        "neg_data = neg_data[neg_data['review_body'].str.len() > 5]"
      ]
    },
    {
      "cell_type": "code",
      "execution_count": null,
      "metadata": {
        "id": "tqubSq5gJSC2"
      },
      "outputs": [],
      "source": [
        "filter_data[filter_data['review_body'] == 'cartridge was over filled black smears on paper every time i tried to use it . refund was quick though .']"
      ]
    },
    {
      "cell_type": "code",
      "execution_count": null,
      "metadata": {
        "id": "IAwboOx7O0K2"
      },
      "outputs": [],
      "source": [
        "len(neg_data)"
      ]
    },
    {
      "cell_type": "code",
      "execution_count": null,
      "metadata": {
        "colab": {
          "base_uri": "https://localhost:8080/"
        },
        "id": "5CedSFy5D9vk",
        "outputId": "9f776b86-eeff-47eb-eb49-f1548e2023e2"
      },
      "outputs": [
        {
          "name": "stdout",
          "output_type": "stream",
          "text": [
            "18.44854071564152\n"
          ]
        }
      ],
      "source": [
        "pos_data = pos_data.sample(frac=1, random_state=22)\n",
        "pos_data = pos_data[:254988]\n",
        "print((pos_data.loc[:,'token_count'].mean() + neg_data.loc[:,'token_count'].mean())/2)"
      ]
    },
    {
      "cell_type": "code",
      "execution_count": null,
      "metadata": {
        "colab": {
          "base_uri": "https://localhost:8080/"
        },
        "id": "ky-mB2oyD_kD",
        "outputId": "223ece08-b94b-406d-8213-08bf02e0e4a5"
      },
      "outputs": [
        {
          "name": "stdout",
          "output_type": "stream",
          "text": [
            "500 2000 252488\n",
            "500 2000 252488\n"
          ]
        }
      ],
      "source": [
        "groups_size = [500, 2000]\n",
        "# neg 500 2000 125552\n",
        "test_pos = pos_data[:groups_size[0]]\n",
        "dev_pos = pos_data[groups_size[0]:groups_size[0]+groups_size[1]]\n",
        "train_pos = pos_data[groups_size[0]+groups_size[1]:]\n",
        "\n",
        "print(\"{} {} {}\".format(len(test_pos), len(dev_pos), len(train_pos)))\n",
        "\n",
        "test_neg = neg_data[:groups_size[0]]\n",
        "dev_neg = neg_data[groups_size[0]:groups_size[0]+groups_size[1]]\n",
        "train_neg = neg_data[groups_size[0]+groups_size[1]:]\n",
        "\n",
        "print(\"{} {} {}\".format(len(test_neg), len(dev_neg), len(train_neg)))"
      ]
    },
    {
      "cell_type": "code",
      "execution_count": null,
      "metadata": {
        "colab": {
          "base_uri": "https://localhost:8080/"
        },
        "id": "wfQU4PVXEDCD",
        "outputId": "668a58e7-63d6-43dc-e818-5c6e44400ba5"
      },
      "outputs": [
        {
          "name": "stdout",
          "output_type": "stream",
          "text": [
            "/content/gdrive/MyDrive/CSCI 544/project/style-transformer/data/amazon35\n"
          ]
        }
      ],
      "source": [
        "%cd /content/gdrive/MyDrive/CSCI 544/project/style-transformer/data/amazon35"
      ]
    },
    {
      "cell_type": "code",
      "execution_count": null,
      "metadata": {
        "id": "uOoUpJuUECcU"
      },
      "outputs": [],
      "source": [
        "# Extract the 'review_body' column as a list of strings\n",
        "\n",
        "review_body_values = train_neg['review_body'].tolist()\n",
        "\n",
        "# Open the binary file in binary write mode and write the text data\n",
        "with open(\"train.neg\", 'wb') as binary_file:\n",
        "    for review_body in review_body_values:\n",
        "      if len(review_body) > 5:\n",
        "        binary_file.write(review_body.encode('utf-8')+ b'\\n')"
      ]
    },
    {
      "cell_type": "markdown",
      "metadata": {
        "id": "4evcfwZCC46b"
      },
      "source": [
        "# **Evaluator acc.bin**"
      ]
    },
    {
      "cell_type": "code",
      "execution_count": null,
      "metadata": {
        "id": "q4SaLzLzaj49"
      },
      "outputs": [],
      "source": [
        "pos = []\n",
        "neg = []\n",
        "\n",
        "with open('/content/gdrive/MyDrive/CSCI 544/project/style-transformer/data/amazon35/train.pos') as file :\n",
        "  for line in file :\n",
        "    pos.append(line)\n",
        "\n",
        "with open('/content/gdrive/MyDrive/CSCI 544/project/style-transformer/data/amazon35/train.neg') as file :\n",
        "  for line in file :\n",
        "    neg.append(line)"
      ]
    },
    {
      "cell_type": "code",
      "execution_count": null,
      "metadata": {
        "id": "kdpMDnCyb5rq"
      },
      "outputs": [],
      "source": [
        "train = []\n",
        "with open('/content/gdrive/MyDrive/CSCI 544/project/style-transformer/data/amazon35/train.txt', 'wb') as file :\n",
        "  for line in pos :\n",
        "    data = \"__label__positive \" + line\n",
        "    file.write(data.encode('utf-8')+ b'\\n')\n",
        "    train.append(data)\n",
        "  for line in neg :\n",
        "    data = \"__label__negative \" + line\n",
        "    file.write(data.encode('utf-8')+ b'\\n')\n",
        "    train.append(data)"
      ]
    },
    {
      "cell_type": "code",
      "execution_count": null,
      "metadata": {
        "colab": {
          "base_uri": "https://localhost:8080/"
        },
        "id": "r_ALKrCRdg-A",
        "outputId": "3aa5b1ef-8327-44cd-8506-1a9825b27286"
      },
      "outputs": [
        {
          "name": "stdout",
          "output_type": "stream",
          "text": [
            "Collecting Cython==0.29.36\n",
            "  Downloading Cython-0.29.36-cp310-cp310-manylinux_2_17_x86_64.manylinux2014_x86_64.manylinux_2_24_x86_64.whl (1.9 MB)\n",
            "\u001b[?25l     \u001b[90m━━━━━━━━━━━━━━━━━━━━━━━━━━━━━━━━━━━━━━━━\u001b[0m \u001b[32m0.0/1.9 MB\u001b[0m \u001b[31m?\u001b[0m eta \u001b[36m-:--:--\u001b[0m\r\u001b[2K     \u001b[91m━\u001b[0m\u001b[90m╺\u001b[0m\u001b[90m━━━━━━━━━━━━━━━━━━━━━━━━━━━━━━━━━━━━━━\u001b[0m \u001b[32m0.1/1.9 MB\u001b[0m \u001b[31m1.7 MB/s\u001b[0m eta \u001b[36m0:00:02\u001b[0m\r\u001b[2K     \u001b[91m━━━━━━━━\u001b[0m\u001b[90m╺\u001b[0m\u001b[90m━━━━━━━━━━━━━━━━━━━━━━━━━━━━━━━\u001b[0m \u001b[32m0.4/1.9 MB\u001b[0m \u001b[31m5.6 MB/s\u001b[0m eta \u001b[36m0:00:01\u001b[0m\r\u001b[2K     \u001b[91m━━━━━━━━━━━━━━━━━━━━━━━━━━━━━━━━━━━━━━━\u001b[0m\u001b[91m╸\u001b[0m \u001b[32m1.9/1.9 MB\u001b[0m \u001b[31m20.8 MB/s\u001b[0m eta \u001b[36m0:00:01\u001b[0m\r\u001b[2K     \u001b[90m━━━━━━━━━━━━━━━━━━━━━━━━━━━━━━━━━━━━━━━━\u001b[0m \u001b[32m1.9/1.9 MB\u001b[0m \u001b[31m17.7 MB/s\u001b[0m eta \u001b[36m0:00:00\u001b[0m\n",
            "\u001b[?25hInstalling collected packages: Cython\n",
            "  Attempting uninstall: Cython\n",
            "    Found existing installation: Cython 3.0.5\n",
            "    Uninstalling Cython-3.0.5:\n",
            "      Successfully uninstalled Cython-3.0.5\n",
            "Successfully installed Cython-0.29.36\n",
            "Collecting fasttext==0.8.3\n",
            "  Downloading fasttext-0.8.3.tar.gz (73 kB)\n",
            "\u001b[2K     \u001b[90m━━━━━━━━━━━━━━━━━━━━━━━━━━━━━━━━━━━━━━━━\u001b[0m \u001b[32m74.0/74.0 kB\u001b[0m \u001b[31m1.8 MB/s\u001b[0m eta \u001b[36m0:00:00\u001b[0m\n",
            "\u001b[?25h  Preparing metadata (setup.py) ... \u001b[?25l\u001b[?25hdone\n",
            "Requirement already satisfied: numpy>=1 in /usr/local/lib/python3.10/dist-packages (from fasttext==0.8.3) (1.23.5)\n",
            "Requirement already satisfied: future in /usr/local/lib/python3.10/dist-packages (from fasttext==0.8.3) (0.18.3)\n",
            "Building wheels for collected packages: fasttext\n",
            "  Building wheel for fasttext (setup.py) ... \u001b[?25l\u001b[?25hdone\n",
            "  Created wheel for fasttext: filename=fasttext-0.8.3-cp310-cp310-linux_x86_64.whl size=1481035 sha256=ad0bb5c8f0138325fb7362dd52c62c0a29d46a7337d1ed189b8a7829a00fa5bf\n",
            "  Stored in directory: /root/.cache/pip/wheels/2b/85/8b/3037ff2b0c1297bd87e6deee5c9a06e4b4da5f4c448c66f5f5\n",
            "Successfully built fasttext\n",
            "Installing collected packages: fasttext\n",
            "Successfully installed fasttext-0.8.3\n"
          ]
        }
      ],
      "source": [
        "! pip install Cython==0.29.36\n",
        "! pip install fasttext==0.8.3"
      ]
    },
    {
      "cell_type": "code",
      "execution_count": null,
      "metadata": {
        "id": "VmiQEAEreEvY"
      },
      "outputs": [],
      "source": [
        "import fasttext\n",
        "classifier = fasttext.supervised('/content/gdrive/MyDrive/CSCI 544/project/style-transformer/data/amazon35/train.txt', \"/content/gdrive/MyDrive/CSCI 544/project/style-transformer/evaluator/acc_amazon35\", label_prefix='__label__')"
      ]
    },
    {
      "cell_type": "code",
      "execution_count": null,
      "metadata": {
        "id": "UMxXpwtFekfO"
      },
      "outputs": [],
      "source": [
        "test_pos = []\n",
        "test_neg = []\n",
        "\n",
        "with open('/content/gdrive/MyDrive/CSCI 544/project/style-transformer/data/amazon35/test.pos') as file :\n",
        "  for line in file :\n",
        "    test_pos.append(line)\n",
        "\n",
        "with open('/content/gdrive/MyDrive/CSCI 544/project/style-transformer/data/amazon35/test.neg') as file :\n",
        "  for line in file :\n",
        "    test_neg.append(line)\n",
        "\n",
        "test = []\n",
        "with open('/content/gdrive/MyDrive/CSCI 544/project/style-transformer/data/amazon35/test.txt', 'wb') as file :\n",
        "  for line in test_pos :\n",
        "    data = \"__label__positive \" + line\n",
        "    file.write(data.encode('utf-8')+ b'\\n')\n",
        "\n",
        "  for line in test_neg :\n",
        "    data = \"__label__negative \" + line\n",
        "    file.write(data.encode('utf-8')+ b'\\n')"
      ]
    },
    {
      "cell_type": "code",
      "execution_count": null,
      "metadata": {
        "id": "SjLbprWMgN_v"
      },
      "outputs": [],
      "source": [
        "model = fasttext.load_model('/content/gdrive/MyDrive/CSCI 544/project/style-transformer/evaluator/acc_amazon35.bin', encoding='utf-8')\n",
        "result = model.test('/content/gdrive/MyDrive/CSCI 544/HW1/amazon/data/test.txt')"
      ]
    },
    {
      "cell_type": "code",
      "execution_count": null,
      "metadata": {
        "colab": {
          "base_uri": "https://localhost:8080/"
        },
        "id": "XfChoev4hyah",
        "outputId": "64e76c69-accc-45ac-8ab1-cbf559c64ecb"
      },
      "outputs": [
        {
          "data": {
            "text/plain": [
              "0.892"
            ]
          },
          "execution_count": 26,
          "metadata": {},
          "output_type": "execute_result"
        }
      ],
      "source": [
        "result = classifier.test('/content/gdrive/MyDrive/CSCI 544/project/style-transformer/data/amazon35/test.txt')\n",
        "result.precision"
      ]
    }
  ],
  "metadata": {
    "colab": {
      "provenance": []
    },
    "kernelspec": {
      "display_name": "Python 3",
      "name": "python3"
    },
    "language_info": {
      "name": "python"
    }
  },
  "nbformat": 4,
  "nbformat_minor": 0
}
